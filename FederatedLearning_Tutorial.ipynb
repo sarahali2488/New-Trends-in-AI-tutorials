{
  "nbformat": 4,
  "nbformat_minor": 0,
  "metadata": {
    "colab": {
      "provenance": []
    },
    "kernelspec": {
      "name": "python3",
      "display_name": "Python 3"
    },
    "language_info": {
      "name": "python"
    }
  },
  "cells": [
    {
      "cell_type": "markdown",
      "source": [
        "# Federated Learning"
      ],
      "metadata": {
        "id": "nxqE9GMVvna2"
      }
    },
    {
      "cell_type": "markdown",
      "source": [
        "### How does the code work?\n",
        "\n",
        "* Explained in this tutorial through DataCamp:\n",
        "[Federated Learning](https://www.datacamp.com/blog/federated-learning)\n",
        "\n",
        "#### 1. Initialization Phase:\n",
        "\n",
        "A global model was created with random weights (weight1, bias1, etc.).\n",
        "This global model was distributed to all clients.\n",
        "\n",
        "#### 2. Local Training Phase:\n",
        "\n",
        "Each client trained its local version of the global model using its private data.\n",
        "Training involved updating the model weights based on simulated gradient descent.\n",
        "After training, each client returned its updated model parameters (the \"local updates\").\n",
        "\n",
        "#### 3. Aggregation Phase:\n",
        "The server aggregated the updates from all clients using federated averaging."
      ],
      "metadata": {
        "id": "U4eyQqjxvn4Z"
      }
    },
    {
      "cell_type": "code",
      "execution_count": null,
      "metadata": {
        "id": "QmVfMMApt7gx"
      },
      "outputs": [],
      "source": [
        "import numpy as np\n",
        "\n",
        "# Class for Initialization Phase\n",
        "class InitializationPhase:\n",
        "    def __init__(self, model, hyperparameters):\n",
        "        \"\"\"\n",
        "        Initialize the global model and distribute it to clients.\n",
        "\n",
        "        Parameters:\n",
        "        model: Initial global model (a dictionary of parameters or weights)\n",
        "        hyperparameters: A dictionary of hyperparameters (e.g., learning rate, epochs)\n",
        "        \"\"\"\n",
        "        self.global_model = model\n",
        "        self.hyperparameters = hyperparameters\n",
        "\n",
        "    def distribute_model(self, clients):\n",
        "        \"\"\"\n",
        "        Distribute the global model and hyperparameters to all clients.\n",
        "\n",
        "        Parameters:\n",
        "        clients: List of client instances\n",
        "        \"\"\"\n",
        "        for client in clients:\n",
        "            client.set_model(self.global_model, self.hyperparameters)"
      ]
    },
    {
      "cell_type": "code",
      "source": [
        "# Class for Local Training Phase\n",
        "class LocalTraining:\n",
        "    def __init__(self, local_data):\n",
        "        \"\"\"\n",
        "        Initialize local data for the client.\n",
        "\n",
        "        Parameters:\n",
        "        local_data: Local dataset for training (features and labels)\n",
        "        \"\"\"\n",
        "        self.local_data = local_data\n",
        "        self.model = None\n",
        "        self.hyperparameters = None\n",
        "\n",
        "    def set_model(self, model, hyperparameters):\n",
        "        \"\"\"\n",
        "        Receive global model and hyperparameters from the server.\n",
        "\n",
        "        Parameters:\n",
        "        model: The global model received from the server\n",
        "        hyperparameters: Training configuration\n",
        "        \"\"\"\n",
        "        self.model = model\n",
        "        self.hyperparameters = hyperparameters\n",
        "\n",
        "    def train(self):\n",
        "        \"\"\"\n",
        "        Train the local model on the local dataset.\n",
        "        \"\"\"\n",
        "        epochs = self.hyperparameters['epochs']\n",
        "        learning_rate = self.hyperparameters['learning_rate']\n",
        "\n",
        "        # Simulated training (gradient descent updates)\n",
        "        for epoch in range(epochs):\n",
        "            gradients = self.compute_gradients(self.local_data, self.model)\n",
        "            self.model = {key: value - learning_rate * gradients[key] for key, value in self.model.items()}\n",
        "\n",
        "        return self.model\n",
        "\n",
        "    def compute_gradients(self, data, model):\n",
        "        \"\"\"\n",
        "        Compute gradients for the model parameters using the local data.\n",
        "        (This is a placeholder; replace with actual gradient computation logic.)\n",
        "\n",
        "        Parameters:\n",
        "        data: Local dataset\n",
        "        model: Current model parameters\n",
        "\n",
        "        Returns:\n",
        "        Gradients for the model parameters\n",
        "        \"\"\"\n",
        "        gradients = {key: np.random.randn(*value.shape) for key, value in model.items()} # Dummy gradients\n",
        "        return gradients"
      ],
      "metadata": {
        "id": "IPVODACCyP3y"
      },
      "execution_count": null,
      "outputs": []
    },
    {
      "cell_type": "code",
      "source": [
        "# Class for Aggregation Phase\n",
        "class AggregationPhase:\n",
        "    @staticmethod\n",
        "    def aggregate_updates(client_updates):\n",
        "        \"\"\"\n",
        "        Aggregate updates from all clients using federated averaging.\n",
        "\n",
        "        Parameters:\n",
        "        client_updates: List of updated model parameters from clients\n",
        "\n",
        "        Returns:\n",
        "        Aggregated global model\n",
        "        \"\"\"\n",
        "        aggregated_model = {}\n",
        "\n",
        "        # Average updates from all clients\n",
        "        for key in client_updates[0].keys():\n",
        "            aggregated_model[key] = np.mean([update[key] for update in client_updates], axis=0)\n",
        "\n",
        "        return aggregated_model"
      ],
      "metadata": {
        "id": "YTbCASfhyMkl"
      },
      "execution_count": null,
      "outputs": []
    },
    {
      "cell_type": "code",
      "source": [
        "\n",
        "if __name__ == \"__main__\":\n",
        "    # Simulated global model (a dictionary of weights)\n",
        "    global_model = {\n",
        "        'weight1': np.random.randn(10, 10),\n",
        "        'bias1': np.random.randn(10),\n",
        "        'weight2': np.random.randn(10, 1),\n",
        "        'bias2': np.random.randn(1)\n",
        "    }\n",
        "\n",
        "    # Hyperparameters for training\n",
        "    hyperparameters = {\n",
        "        'learning_rate': 0.01,\n",
        "        'epochs': 5\n",
        "    }\n",
        "\n",
        "    # Simulated local datasets for clients (in random)\n",
        "    client_datasets = [\n",
        "        (np.random.randn(100, 10), np.random.randn(100)),\n",
        "        (np.random.randn(100, 10), np.random.randn(100)),\n",
        "        (np.random.randn(100, 10), np.random.randn(100))\n",
        "    ]\n",
        "\n",
        "    # Create InitializationPhase and distribute the global model to clients\n",
        "    init_phase = InitializationPhase(global_model, hyperparameters)\n",
        "    clients = [LocalTraining(data) for data in client_datasets]\n",
        "    init_phase.distribute_model(clients)\n",
        "\n",
        "    # Perform local training on all clients\n",
        "    client_updates = []\n",
        "    for client in clients:\n",
        "        updated_model = client.train()\n",
        "        client_updates.append(updated_model)\n",
        "\n",
        "    # Aggregate updates and create a new global model\n",
        "    aggregated_model = AggregationPhase.aggregate_updates(client_updates)\n",
        "\n",
        "    print(\"New global model:\", aggregated_model)"
      ],
      "metadata": {
        "colab": {
          "base_uri": "https://localhost:8080/"
        },
        "id": "RgWW480Ut_qe",
        "outputId": "3f4abdbc-062d-4b95-ce2a-ea6dc6afabda"
      },
      "execution_count": null,
      "outputs": [
        {
          "output_type": "stream",
          "name": "stdout",
          "text": [
            "New global model: {'weight1': array([[-2.39940396e-01, -2.88164898e-01, -1.77012167e+00,\n",
            "        -9.67319409e-01, -1.98182237e-01,  9.59768504e-02,\n",
            "        -1.14915973e-01, -7.56992990e-01, -2.90372413e-01,\n",
            "        -1.28187603e+00],\n",
            "       [-1.24942784e+00, -3.39066452e-01,  2.79349103e-01,\n",
            "        -6.06846405e-01, -9.99616688e-02, -2.06621358e-01,\n",
            "        -1.10919951e+00, -7.35665036e-01, -2.99234804e-01,\n",
            "         1.22595632e+00],\n",
            "       [-9.86264910e-01, -4.36179553e-02, -8.09145038e-01,\n",
            "        -7.93534466e-01,  2.10178219e-01,  8.15231567e-01,\n",
            "         4.98967190e-01, -3.89971946e-01, -1.07285947e-01,\n",
            "         1.46259648e-01],\n",
            "       [ 4.33666371e-01, -1.34307907e+00, -1.54323223e+00,\n",
            "        -1.93957334e+00,  1.42626879e+00,  6.87892174e-02,\n",
            "         4.93167756e-01,  4.06908600e-01,  3.25623782e-01,\n",
            "         7.51650034e-02],\n",
            "       [ 1.22962616e+00, -3.71498790e-01, -4.79777557e-02,\n",
            "         8.29505241e-01, -8.95509304e-01,  7.99148472e-01,\n",
            "        -6.09659689e-01,  1.27328127e+00,  5.24168250e-01,\n",
            "        -2.53491177e-01],\n",
            "       [-1.69968304e+00,  4.84925835e-01,  1.77716605e+00,\n",
            "        -2.45968745e-01, -1.46407004e-01,  6.11097573e-01,\n",
            "         1.01137029e-01,  4.45978300e-01, -1.74864873e+00,\n",
            "         5.89562510e-01],\n",
            "       [ 1.72411667e+00,  3.76594594e-01, -7.01003439e-01,\n",
            "        -1.85133590e-01,  8.76150444e-01,  7.95226796e-01,\n",
            "         4.05316122e-01, -1.46202830e+00,  1.02858003e+00,\n",
            "        -5.50263860e-01],\n",
            "       [-2.03759967e-01,  1.20229838e-03,  1.54377915e+00,\n",
            "        -4.25960010e-01, -9.12352133e-01,  2.41254403e-01,\n",
            "        -1.16368257e+00, -2.31624604e+00, -6.15031505e-01,\n",
            "         2.71586636e+00],\n",
            "       [ 1.21243185e+00,  9.94054083e-01,  5.65100571e-01,\n",
            "         1.52061774e+00,  9.02598486e-01,  1.31327427e-01,\n",
            "         1.80165602e+00, -4.25446418e-02, -1.98859657e+00,\n",
            "         6.09020685e-01],\n",
            "       [ 6.35606187e-01, -1.89311967e-01, -8.45887026e-02,\n",
            "         4.64497263e-01,  1.20421714e-01,  5.84200335e-01,\n",
            "         2.74900786e+00,  1.32308154e+00,  1.31068214e+00,\n",
            "        -4.07127499e-01]]), 'bias1': array([ 1.89449643, -0.41764974, -0.86647525, -0.25831785, -0.46130215,\n",
            "        2.37265158, -1.90473123,  1.3246995 ,  1.33591156, -0.0544995 ]), 'weight2': array([[-1.45010465],\n",
            "       [-0.99654903],\n",
            "       [ 0.09336001],\n",
            "       [-0.2923601 ],\n",
            "       [ 0.35348378],\n",
            "       [ 1.07616254],\n",
            "       [-1.71686935],\n",
            "       [ 0.41205228],\n",
            "       [-0.56787142],\n",
            "       [ 0.50633089]]), 'bias2': array([-0.7323973])}\n"
          ]
        }
      ]
    },
    {
      "cell_type": "code",
      "source": [],
      "metadata": {
        "id": "YRy66J5KwizN"
      },
      "execution_count": null,
      "outputs": []
    }
  ]
}